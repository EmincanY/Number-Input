{
 "cells": [
  {
   "cell_type": "code",
   "execution_count": 7,
   "id": "8a7a2e44-b7d5-4f0a-b744-24a4b5655ed3",
   "metadata": {},
   "outputs": [
    {
     "name": "stdout",
     "output_type": "stream",
     "text": [
      "Sorry but this is not a number.\n",
      "Sorry but this is not a number.\n",
      "Sorry but you can't give any number :(\n"
     ]
    }
   ],
   "source": [
    "# If you cant give any number 3 times. Program shutting down.\n",
    "def num_control():\n",
    "    userInput = input(\"Please give a number : \")\n",
    "    count = 1\n",
    "    while not userInput.isdigit():\n",
    "        print(\"Sorry but this is not a number.\")\n",
    "        userInput = input(\"Please give only a number : \")\n",
    "        count += 1\n",
    "        if count == 3 and not userInput.isdigit() :\n",
    "            print(\"Sorry but you can't give any number :(\")\n",
    "            break\n",
    "    if userInput.isdigit():\n",
    "        print(\"Congrats. You gave a number.\")\n",
    "\n",
    "num_control()\n",
    "        "
   ]
  },
  {
   "cell_type": "code",
   "execution_count": null,
   "id": "ebd6b497",
   "metadata": {},
   "outputs": [],
   "source": []
  }
 ],
 "metadata": {
  "kernelspec": {
   "display_name": "Python 3.9.12 ('base')",
   "language": "python",
   "name": "python3"
  },
  "language_info": {
   "codemirror_mode": {
    "name": "ipython",
    "version": 3
   },
   "file_extension": ".py",
   "mimetype": "text/x-python",
   "name": "python",
   "nbconvert_exporter": "python",
   "pygments_lexer": "ipython3",
   "version": "3.9.12"
  },
  "vscode": {
   "interpreter": {
    "hash": "7472d9da26e9290f88d1d83fd7a0a78e80b5c4c11f57fcb98471aeaa4437e7a0"
   }
  }
 },
 "nbformat": 4,
 "nbformat_minor": 5
}
